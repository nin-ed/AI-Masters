{
  "nbformat": 4,
  "nbformat_minor": 0,
  "metadata": {
    "colab": {
      "name": "ANN Model.ipynb",
      "provenance": [],
      "authorship_tag": "ABX9TyND64flup6HfaMN6E3QOJ+n"
    },
    "kernelspec": {
      "name": "python3",
      "display_name": "Python 3"
    },
    "accelerator": "GPU"
  },
  "cells": [
    {
      "cell_type": "code",
      "metadata": {
        "id": "2bzCw5Ke0s9a",
        "colab_type": "code",
        "colab": {}
      },
      "source": [
        "import pandas as pd\n",
        "import numpy as np\n",
        "import torch\n",
        "from torch import nn, optim\n",
        "import torch.nn.functional as F\n",
        "from sklearn.model_selection import train_test_split\n",
        "from sklearn.metrics import r2_score\n",
        "import matplotlib.pyplot as plt"
      ],
      "execution_count": 0,
      "outputs": []
    },
    {
      "cell_type": "code",
      "metadata": {
        "id": "8Vij_L1s0uyr",
        "colab_type": "code",
        "colab": {}
      },
      "source": [
        "class Network(nn.Module):\n",
        "    def __init__(self, in_size, hidden_size, out_size):\n",
        "        super().__init__()\n",
        "        self.inp = nn.Linear(in_size, hidden_size)\n",
        "        #self.hidden = nn.Linear(hidden_size[0], hidden_size[1])\n",
        "        self.out = nn.Linear(hidden_size, out_size)\n",
        "\n",
        "    def forward(self, x):\n",
        "        x = F.relu(self.inp(x))\n",
        "       # x = F.relu(self.hidden(x))\n",
        "        return self.out(x)"
      ],
      "execution_count": 0,
      "outputs": []
    },
    {
      "cell_type": "code",
      "metadata": {
        "id": "59v9psei0yGZ",
        "colab_type": "code",
        "colab": {}
      },
      "source": [
        "def train(model, criterion, optimizer, x, y, epochs):\n",
        "    model.train()\n",
        "    for e in range(epochs):\n",
        "        x, y = x.float(), y.float()\n",
        "        optimizer.zero_grad()\n",
        "        output = model.forward(x)\n",
        "        loss = criterion(output, y)\n",
        "        loss.backward()\n",
        "        optimizer.step()\n",
        "    return model\n",
        "\n",
        "def test(model, x, y):\n",
        "    model.eval()\n",
        "    with torch.no_grad():\n",
        "        output = model.forward(x.float())\n",
        "\n",
        "    print(f\"R2 Score: {r2_score(y, output)}\")\n",
        "\n",
        "    plt.clf()\n",
        "    plt.xlabel('Car Purchase Amount')\n",
        "    plt.ylabel('Net Worth of Customer')\n",
        "    plt.title('ANN Model')\n",
        "    plt.plot(x, y, 'go', label='True Data', alpha=0.5)\n",
        "    plt.plot(x, output, '--', label='Prediction', alpha=0.5)\n",
        "    plt.legend(loc='best')\n",
        "    plt.show()"
      ],
      "execution_count": 0,
      "outputs": []
    },
    {
      "cell_type": "code",
      "metadata": {
        "id": "G6K-MIgX06fa",
        "colab_type": "code",
        "colab": {}
      },
      "source": [
        "def main():\n",
        "    df = pd.read_csv('/content/sample_data/Car_Purchasing_Data.csv')\n",
        "    data = np.array(df[['Car Purchase Amount', 'Net Worth']].values)\n",
        "    data = torch.from_numpy(data)\n",
        "\n",
        "    X_train, X_test, Y_train, Y_test = train_test_split(data[:, 0], data[:, 1], train_size=0.8, shuffle=False)\n",
        "    X_train, X_test, Y_train, Y_test = X_train.reshape(-1, 1), X_test.reshape(-1, 1), Y_train.reshape(-1, 1), \\\n",
        "                                       Y_test.reshape(-1, 1)\n",
        "\n",
        "    inp_size = 1\n",
        "    hidden_size = 256\n",
        "    out_size = 1\n",
        "    epochs = 5000\n",
        "\n",
        "    model = Network(inp_size, hidden_size, out_size)\n",
        "    criterion = nn.MSELoss()\n",
        "    optimizer = optim.Adam(model.parameters(), lr=0.2)\n",
        "\n",
        "    c_model = train(model, criterion, optimizer, X_train, Y_train, epochs)\n",
        "\n",
        "    test(c_model, X_test, Y_test)"
      ],
      "execution_count": 0,
      "outputs": []
    },
    {
      "cell_type": "code",
      "metadata": {
        "id": "xhNGEfaI1ANC",
        "colab_type": "code",
        "colab": {
          "base_uri": "https://localhost:8080/",
          "height": 313
        },
        "outputId": "50578009-4b9a-4b18-86cf-72dc21c628e9"
      },
      "source": [
        "if __name__ == '__main__':\n",
        "    main()"
      ],
      "execution_count": 15,
      "outputs": [
        {
          "output_type": "stream",
          "text": [
            "R2 Score: 0.2653867125059153\n"
          ],
          "name": "stdout"
        },
        {
          "output_type": "display_data",
          "data": {
            "image/png": "[encoded data removed]",
            "text/plain": [
              "<Figure size 432x288 with 1 Axes>"
            ]
          },
          "metadata": {
            "tags": [],
            "needs_background": "light"
          }
        }
      ]
    },
    {
      "cell_type": "code",
      "metadata": {
        "id": "0q-XcTvR1Lji",
        "colab_type": "code",
        "colab": {}
      },
      "source": [
        ""
      ],
      "execution_count": 0,
      "outputs": []
    }
  ]
}