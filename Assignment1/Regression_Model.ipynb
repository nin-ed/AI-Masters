{
  "nbformat": 4,
  "nbformat_minor": 0,
  "metadata": {
    "colab": {
      "name": "Regression Model.ipynb",
      "provenance": [],
      "authorship_tag": "ABX9TyN0YaC2CE/H4kZAdUepcZD5"
    },
    "kernelspec": {
      "name": "python3",
      "display_name": "Python 3"
    },
    "accelerator": "GPU"
  },
  "cells": [
    {
      "cell_type": "code",
      "metadata": {
        "id": "d39ayXiWxkcI",
        "colab_type": "code",
        "colab": {}
      },
      "source": [
        "import pandas as pd\n",
        "import numpy as np\n",
        "from sklearn.linear_model import LinearRegression\n",
        "from sklearn.model_selection import train_test_split\n",
        "from sklearn.metrics import r2_score\n",
        "import matplotlib.pyplot as plt"
      ],
      "execution_count": 0,
      "outputs": []
    },
    {
      "cell_type": "code",
      "metadata": {
        "id": "S-m0q1P0zH7l",
        "colab_type": "code",
        "colab": {}
      },
      "source": [
        "df = pd.read_csv('/content/sample_data/Car_Purchasing_Data.csv')\n",
        "data = np.array(df[['Car Purchase Amount', 'Net Worth']].values)"
      ],
      "execution_count": 0,
      "outputs": []
    },
    {
      "cell_type": "code",
      "metadata": {
        "id": "MTCi9-ntzQ5n",
        "colab_type": "code",
        "colab": {}
      },
      "source": [
        "X_train, X_test, Y_train, Y_test = train_test_split(data[:, 0], data[:, 1], train_size=0.8, shuffle=False)\n",
        "X_train, X_test, Y_train, Y_test = X_train.reshape(-1, 1), X_test.reshape(-1, 1), Y_train.reshape(-1, 1),\\\n",
        "                                   Y_test.reshape(-1, 1)"
      ],
      "execution_count": 0,
      "outputs": []
    },
    {
      "cell_type": "code",
      "metadata": {
        "id": "i5A1ThD-z6ha",
        "colab_type": "code",
        "colab": {}
      },
      "source": [
        "lr = LinearRegression(normalize=True)\n",
        "lr.fit(X_train, Y_train)\n",
        "predict = lr.predict(X_test)"
      ],
      "execution_count": 0,
      "outputs": []
    },
    {
      "cell_type": "code",
      "metadata": {
        "id": "OxAsz-vfz_ML",
        "colab_type": "code",
        "colab": {
          "base_uri": "https://localhost:8080/",
          "height": 35
        },
        "outputId": "526e98a0-14a2-426b-d19d-d6c50c950981"
      },
      "source": [
        "print(f\"R2 Score: {r2_score(Y_test, predict)}\")"
      ],
      "execution_count": 8,
      "outputs": [
        {
          "output_type": "stream",
          "text": [
            "R2 Score: 0.28031659082357663\n"
          ],
          "name": "stdout"
        }
      ]
    },
    {
      "cell_type": "code",
      "metadata": {
        "id": "Tk4lIu630BMA",
        "colab_type": "code",
        "colab": {
          "base_uri": "https://localhost:8080/",
          "height": 295
        },
        "outputId": "5d9de173-aec3-40eb-a5e1-55a0c2c9597d"
      },
      "source": [
        "plt.clf()\n",
        "plt.title('ML Model')\n",
        "plt.xlabel('Car Purchase Amount')\n",
        "plt.ylabel('Net Worth of Customer')\n",
        "plt.plot(X_test, Y_test, 'go', label='True Data', alpha=0.5)\n",
        "plt.plot(X_test, predict, '--', label='Prediction', alpha=0.5)\n",
        "plt.legend(loc='best')\n",
        "plt.show()"
      ],
      "execution_count": 9,
      "outputs": [
        {
          "output_type": "display_data",
          "data": {
            "image/png": "[encoded data removed]",
            "text/plain": [
              "<Figure size 432x288 with 1 Axes>"
            ]
          },
          "metadata": {
            "tags": [],
            "needs_background": "light"
          }
        }
      ]
    },
    {
      "cell_type": "code",
      "metadata": {
        "id": "hu0tHWlq0D2w",
        "colab_type": "code",
        "colab": {}
      },
      "source": [
        ""
      ],
      "execution_count": 0,
      "outputs": []
    }
  ]
}