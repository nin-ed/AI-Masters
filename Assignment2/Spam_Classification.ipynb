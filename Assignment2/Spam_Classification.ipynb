{
  "nbformat": 4,
  "nbformat_minor": 0,
  "metadata": {
    "colab": {
      "name": "Spam_Classification.ipynb",
      "provenance": [],
      "mount_file_id": "1HviG3eLobYCtZzl3dfW-s2EwIkc5em6L",
      "authorship_tag": "ABX9TyOzdas5BrmfU3DnpPwiz96q"
    },
    "kernelspec": {
      "name": "python3",
      "display_name": "Python 3"
    }
  },
  "cells": [
    {
      "cell_type": "code",
      "metadata": {
        "id": "BbvE_VQw-3wp",
        "colab_type": "code",
        "colab": {
          "base_uri": "https://localhost:8080/",
          "height": 104
        },
        "outputId": "b05d00d7-9324-49b5-a671-c9d6cbb50a8f"
      },
      "source": [
        "import pandas as pd\n",
        "import re\n",
        "import numpy as np\n",
        "from nltk.tokenize import word_tokenize\n",
        "from nltk import PorterStemmer\n",
        "from nltk import WordNetLemmatizer\n",
        "from sklearn.feature_extraction.text import CountVectorizer\n",
        "from sklearn.model_selection import train_test_split\n",
        "import matplotlib.pyplot as plt\n",
        "import torch\n",
        "from torch import nn, optim\n",
        "import torch.nn.functional as F\n",
        "\n",
        "import nltk\n",
        "nltk.download('punkt')\n",
        "nltk.download('wordnet')"
      ],
      "execution_count": 1,
      "outputs": [
        {
          "output_type": "stream",
          "text": [
            "[nltk_data] Downloading package punkt to /root/nltk_data...\n",
            "[nltk_data]   Unzipping tokenizers/punkt.zip.\n",
            "[nltk_data] Downloading package wordnet to /root/nltk_data...\n",
            "[nltk_data]   Unzipping corpora/wordnet.zip.\n"
          ],
          "name": "stdout"
        },
        {
          "output_type": "execute_result",
          "data": {
            "text/plain": [
              "True"
            ]
          },
          "metadata": {
            "tags": []
          },
          "execution_count": 1
        }
      ]
    },
    {
      "cell_type": "code",
      "metadata": {
        "id": "H8BicaMd_Zks",
        "colab_type": "code",
        "colab": {}
      },
      "source": [
        "class Network(nn.Module):\n",
        "    def __init__(self):\n",
        "        super().__init__()\n",
        "        self.fc1 = nn.Linear(10000, 512)\n",
        "        self.fc2 = nn.Linear(512, 64)\n",
        "        self.fc3 = nn.Linear(64, 2)\n",
        "        self.drop = nn.Dropout(p=0.2)\n",
        "\n",
        "    def forward(self, x):\n",
        "        x = self.drop(F.relu(self.fc1(x)))\n",
        "        x = self.drop(F.relu(self.fc2(x)))\n",
        "        x = self.fc3(x)\n",
        "        return x"
      ],
      "execution_count": 0,
      "outputs": []
    },
    {
      "cell_type": "code",
      "metadata": {
        "id": "stpJKTK3_dtz",
        "colab_type": "code",
        "colab": {}
      },
      "source": [
        "def preprocess(df):\n",
        "    df = df.apply(lambda s: re.sub(r'[^a-zA-Z]', ' ', s))\n",
        "    df = df.apply(lambda s: word_tokenize(s))\n",
        "    ps = PorterStemmer()\n",
        "    df = df.apply(lambda s: [ps.stem(word) for word in s])\n",
        "    lm = WordNetLemmatizer()\n",
        "    df = df.apply(lambda s: [lm.lemmatize(word) for word in s])\n",
        "    df = df.apply(lambda s: ' '.join(s))\n",
        "    return df"
      ],
      "execution_count": 0,
      "outputs": []
    },
    {
      "cell_type": "code",
      "metadata": {
        "id": "O0vwYCrh_gEA",
        "colab_type": "code",
        "colab": {}
      },
      "source": [
        "def train(model, criterion, optimizer, X_train, Y_train, X_test, Y_test, epochs):\n",
        "    train_loss, val_loss = [], []\n",
        "    for e in range(epochs):\n",
        "        model.train()\n",
        "        x, y = X_train.float(), Y_train.long()\n",
        "        optimizer.zero_grad()\n",
        "        output = model.forward(x)\n",
        "        loss = criterion(output, y)\n",
        "        loss.backward()\n",
        "        optimizer.step()\n",
        "        t_loss = (loss.item() * x.size(0)) / len(x)\n",
        "\n",
        "        model.eval()\n",
        "        x, y = X_test.float(), Y_test.long()\n",
        "        output = model.forward(x)\n",
        "        loss = criterion(output, y)\n",
        "        v_loss = (loss.item() * x.size(0)) / len(x)\n",
        "\n",
        "        train_loss.append(t_loss)\n",
        "        val_loss.append(v_loss)\n",
        "        print(f\"Epoch: {e+1} | Training Loss: {t_loss} | Validation Loss: {v_loss}\")\n",
        "        if train_loss[-1] < val_loss[-1] and e >= 10:\n",
        "            break\n",
        "\n",
        "    plt.plot(range(1, len(train_loss)+1), train_loss, 'b-', label='Training Loss')\n",
        "    plt.plot(range(1, len(val_loss)+1), val_loss, 'r-', label='Validation Loss')\n",
        "    plt.xticks(range(0, 20, 2))\n",
        "    plt.xlabel('Epochs')\n",
        "    plt.ylabel('Loss')\n",
        "    plt.legend(loc='best')\n",
        "    plt.show()"
      ],
      "execution_count": 0,
      "outputs": []
    },
    {
      "cell_type": "code",
      "metadata": {
        "id": "ijUxLVZt_lDp",
        "colab_type": "code",
        "colab": {}
      },
      "source": [
        "def test(model, X_val, Y_val):\n",
        "    model.eval()\n",
        "    x, y = X_val.float(), Y_val.long()\n",
        "    output = model.forward(x)\n",
        "    _, pred = torch.max(output, dim=1)\n",
        "    correct = pred.eq(y.view_as(pred)).sum()\n",
        "    print(f\"Test Accuracy: {100. * correct / len(X_val):.2f}%\")"
      ],
      "execution_count": 0,
      "outputs": []
    },
    {
      "cell_type": "code",
      "metadata": {
        "id": "Nz87CIRj_vmD",
        "colab_type": "code",
        "colab": {}
      },
      "source": [
        "def main():\n",
        "    df = pd.read_csv('/content/drive/My Drive/emails.csv')\n",
        "    df['text'] = preprocess(df['text'])\n",
        "\n",
        "    cv = CountVectorizer(max_features=10000, stop_words='english')\n",
        "    sparse_mat = cv.fit_transform(df['text']).toarray()\n",
        "\n",
        "    l = np.concatenate((sparse_mat, np.array(df['spam']).reshape(len(sparse_mat), 1)), axis=1)\n",
        "    np.random.shuffle(l)\n",
        "    X, Y = l[:, :-1], l[:, -1]\n",
        "\n",
        "    X_train, X_val, Y_train, Y_val = train_test_split(X, Y, train_size=0.6)\n",
        "    X_val, X_test, Y_val, Y_test = train_test_split(X_val, Y_val, train_size=0.2)\n",
        "\n",
        "    X_train, Y_train = torch.from_numpy(X_train), torch.from_numpy(Y_train)\n",
        "    X_val, Y_val = torch.from_numpy(X_val), torch.from_numpy(Y_val)\n",
        "    X_test, Y_test = torch.from_numpy(X_test), torch.from_numpy(Y_test)\n",
        "\n",
        "    model = Network()\n",
        "    criterion = nn.CrossEntropyLoss()\n",
        "    optimizer = optim.Adam(model.parameters(), lr=0.01)\n",
        "\n",
        "    train(model, criterion, optimizer, X_train, Y_train, X_val, Y_val, epochs=30)\n",
        "    test(model, X_test, Y_test)"
      ],
      "execution_count": 0,
      "outputs": []
    },
    {
      "cell_type": "code",
      "metadata": {
        "id": "MiPucgl3_2UD",
        "colab_type": "code",
        "colab": {
          "base_uri": "https://localhost:8080/",
          "height": 505
        },
        "outputId": "d0484057-7786-4cd7-9291-d4c3cfb00275"
      },
      "source": [
        "if __name__ == '__main__':\n",
        "    main()"
      ],
      "execution_count": 25,
      "outputs": [
        {
          "output_type": "stream",
          "text": [
            "Epoch: 1 | Training Loss: 0.6986945271492004 | Validation Loss: 1.323347568511963\n",
            "Epoch: 2 | Training Loss: 1.1606197357177734 | Validation Loss: 0.3152449429035187\n",
            "Epoch: 3 | Training Loss: 0.28672167658805847 | Validation Loss: 0.382569819688797\n",
            "Epoch: 4 | Training Loss: 0.36044737696647644 | Validation Loss: 0.3496294617652893\n",
            "Epoch: 5 | Training Loss: 0.32448339462280273 | Validation Loss: 0.28345000743865967\n",
            "Epoch: 6 | Training Loss: 0.2569696009159088 | Validation Loss: 0.23289017379283905\n",
            "Epoch: 7 | Training Loss: 0.20690582692623138 | Validation Loss: 0.19714170694351196\n",
            "Epoch: 8 | Training Loss: 0.17282837629318237 | Validation Loss: 0.16599977016448975\n",
            "Epoch: 9 | Training Loss: 0.14257079362869263 | Validation Loss: 0.13391922414302826\n",
            "Epoch: 10 | Training Loss: 0.11249832063913345 | Validation Loss: 0.1022711768746376\n",
            "Epoch: 11 | Training Loss: 0.08304975926876068 | Validation Loss: 0.07524031400680542\n",
            "Epoch: 12 | Training Loss: 0.05675610527396202 | Validation Loss: 0.057189591228961945\n"
          ],
          "name": "stdout"
        },
        {
          "output_type": "display_data",
          "data": {
            "image/png": "[encoded data removed]",
            "text/plain": [
              "<Figure size 432x288 with 1 Axes>"
            ]
          },
          "metadata": {
            "tags": [],
            "needs_background": "light"
          }
        },
        {
          "output_type": "stream",
          "text": [
            "Test Accuracy: 98.47%\n"
          ],
          "name": "stdout"
        }
      ]
    },
    {
      "cell_type": "code",
      "metadata": {
        "id": "1NKwR8_HDT4E",
        "colab_type": "code",
        "colab": {}
      },
      "source": [
        ""
      ],
      "execution_count": 0,
      "outputs": []
    }
  ]
}